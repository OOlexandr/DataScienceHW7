{
 "cells": [
  {
   "cell_type": "code",
   "execution_count": 7,
   "metadata": {},
   "outputs": [],
   "source": [
    "#import and preparing data\n",
    "from surprise import Dataset, SVD, SVDpp, NMF\n",
    "from surprise.model_selection import cross_validate\n",
    "\n",
    "data = Dataset.load_builtin(\"ml-100k\")"
   ]
  },
  {
   "cell_type": "code",
   "execution_count": 8,
   "metadata": {},
   "outputs": [
    {
     "data": {
      "text/plain": [
       "{'test_rmse': array([0.93833349, 0.92805959, 0.93870499, 0.94048515, 0.94031239]),\n",
       " 'test_mae': array([0.73860419, 0.73176101, 0.74314485, 0.74112485, 0.74039625]),\n",
       " 'fit_time': (2.4090025424957275,\n",
       "  2.166994094848633,\n",
       "  4.045994520187378,\n",
       "  3.5210065841674805,\n",
       "  2.2621331214904785),\n",
       " 'test_time': (0.32814526557922363,\n",
       "  0.6010985374450684,\n",
       "  0.818000078201294,\n",
       "  0.5309865474700928,\n",
       "  0.29984474182128906)}"
      ]
     },
     "execution_count": 8,
     "metadata": {},
     "output_type": "execute_result"
    }
   ],
   "source": [
    "#trying SVD\n",
    "algo_SVD = SVD()\n",
    "cross_validate(algo_SVD, data, measures=[\"RMSE\", \"MAE\"])\n",
    "#accuracy:\n",
    "#rmse 0.94\n",
    "#mae 0.74"
   ]
  },
  {
   "cell_type": "code",
   "execution_count": 9,
   "metadata": {},
   "outputs": [
    {
     "data": {
      "text/plain": [
       "{'test_rmse': array([0.91567411, 0.92443901, 0.91081554, 0.92503898, 0.91574914]),\n",
       " 'test_mae': array([0.72176223, 0.72461561, 0.71291593, 0.7237539 , 0.718462  ]),\n",
       " 'fit_time': (60.15734624862671,\n",
       "  68.63832902908325,\n",
       "  51.43198847770691,\n",
       "  48.37898898124695,\n",
       "  51.73833751678467),\n",
       " 'test_time': (10.615830183029175,\n",
       "  12.03684115409851,\n",
       "  9.206166982650757,\n",
       "  8.973994016647339,\n",
       "  9.561306476593018)}"
      ]
     },
     "execution_count": 9,
     "metadata": {},
     "output_type": "execute_result"
    }
   ],
   "source": [
    "#trying SVDpp\n",
    "algo_SVDpp = SVDpp()\n",
    "cross_validate(algo_SVDpp, data, measures=[\"RMSE\", \"MAE\"])\n",
    "#accuracy:\n",
    "#rmse 0.916\n",
    "#mae 0.718\n",
    "#Fits much slower and has lower accuracy."
   ]
  },
  {
   "cell_type": "code",
   "execution_count": 10,
   "metadata": {},
   "outputs": [
    {
     "data": {
      "text/plain": [
       "{'test_rmse': array([0.97062481, 0.96585517, 0.9610733 , 0.96413224, 0.96493016]),\n",
       " 'test_mae': array([0.76191427, 0.76226041, 0.75858215, 0.75867746, 0.75593222]),\n",
       " 'fit_time': (3.768831729888916,\n",
       "  3.850839853286743,\n",
       "  3.499995231628418,\n",
       "  3.407250165939331,\n",
       "  4.651984453201294),\n",
       " 'test_time': (0.27199339866638184,\n",
       "  0.4071512222290039,\n",
       "  0.2620077133178711,\n",
       "  0.6210155487060547,\n",
       "  0.2671470642089844)}"
      ]
     },
     "execution_count": 10,
     "metadata": {},
     "output_type": "execute_result"
    }
   ],
   "source": [
    "#trying NMF\n",
    "algo_NMF = NMF()\n",
    "cross_validate(algo_NMF, data, measures=[\"RMSE\", \"MAE\"])\n",
    "#accuracy:\n",
    "#rmse 0.965\n",
    "#mae 0.756\n",
    "#And we have a winner."
   ]
  },
  {
   "cell_type": "code",
   "execution_count": 11,
   "metadata": {},
   "outputs": [
    {
     "name": "stdout",
     "output_type": "stream",
     "text": [
      "RMSE: 0.9635\n"
     ]
    },
    {
     "data": {
      "text/plain": [
       "0.9635443826392499"
      ]
     },
     "execution_count": 11,
     "metadata": {},
     "output_type": "execute_result"
    }
   ],
   "source": [
    "#building final model\n",
    "from surprise import accuracy\n",
    "from surprise.model_selection import train_test_split\n",
    "trainset, testset = train_test_split(data, test_size=0.25)\n",
    "model = algo_NMF.fit(trainset)\n",
    "predictions = model.test(testset)\n",
    "accuracy.rmse(predictions)"
   ]
  }
 ],
 "metadata": {
  "kernelspec": {
   "display_name": "Python 3",
   "language": "python",
   "name": "python3"
  },
  "language_info": {
   "codemirror_mode": {
    "name": "ipython",
    "version": 3
   },
   "file_extension": ".py",
   "mimetype": "text/x-python",
   "name": "python",
   "nbconvert_exporter": "python",
   "pygments_lexer": "ipython3",
   "version": "3.11.1"
  }
 },
 "nbformat": 4,
 "nbformat_minor": 2
}
